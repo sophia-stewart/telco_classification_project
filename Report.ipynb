{
 "cells": [
  {
   "cell_type": "markdown",
   "id": "a4c6da50",
   "metadata": {},
   "source": [
    "# Telco Churn Report\n",
    "Sophia Stewart\n",
    "\n",
    "November 29, 2021\n",
    "\n",
    "---\n",
    "\n",
    "### Executive Summary\n",
    "The goal of this project is to identify factors that lead to customer churn at Telco, create models, and then make recommendations to reduce churn and increase customer retention."
   ]
  },
  {
   "cell_type": "code",
   "execution_count": null,
   "id": "b6ecda56",
   "metadata": {},
   "outputs": [],
   "source": [
    "# import modules needed to run report\n",
    "import pandas as pd\n",
    "import telco_functions as tf\n",
    "import matplotlib.pyplot as plt\n",
    "import seaborn as sns\n",
    "from scipy import stats\n",
    "from sklearn.ensemble import RandomForestClassifier\n",
    "from sklearn.neighbors import KNeighborsClassifier\n",
    "from sklearn.linear_model import LogisticRegression\n",
    "from sklearn.metrics import accuracy_score\n",
    "\n",
    "# to ignore any pink warnings\n",
    "import warnings\n",
    "warnings.filterwarnings(\"ignore\")"
   ]
  },
  {
   "cell_type": "markdown",
   "id": "6e414ff8",
   "metadata": {},
   "source": [
    "To begin, I defined functions to acquire, clean, and split the telco data. To deal with the missing values I discovered in the total_charges column, I did some digging and found that the only rows missing a total_charges value have a tenure of 0. Since these are new customers who have not yet had the opportunity to churn, their data will probably not be useful in helping find a driver of churn. Therefore, I decided to drop the 11 rows with total_charges of ' '."
   ]
  },
  {
   "cell_type": "code",
   "execution_count": null,
   "id": "e532eb88",
   "metadata": {},
   "outputs": [],
   "source": [
    "# get telco data and assign train, validate, test variables\n",
    "train, validate, test = tf.wrangle_telco()"
   ]
  },
  {
   "cell_type": "markdown",
   "id": "9693b702",
   "metadata": {},
   "source": [
    "For context, I decided to look at the distributions of the variables related to my questions."
   ]
  },
  {
   "cell_type": "code",
   "execution_count": null,
   "id": "bbcc7784",
   "metadata": {},
   "outputs": [],
   "source": [
    "# view frequencies of variables relevant to questions\n",
    "train[['has_churned', 'has_dependents', 'is_male', 'has_paperless_billing', 'monthly_charges', 'total_charges']].hist()\n",
    "plt.tight_layout();"
   ]
  },
  {
   "cell_type": "markdown",
   "id": "a98be966",
   "metadata": {},
   "source": [
    "### Question 1: Do churned customers have higher monthly charges than customers who have not yet churned?"
   ]
  },
  {
   "cell_type": "code",
   "execution_count": null,
   "id": "715b4868",
   "metadata": {},
   "outputs": [],
   "source": [
    "# visualize average monthly charges by whether a customer has churned\n",
    "sns.barplot(data=train, x='has_churned', y='monthly_charges')\n",
    "plt.axhline(train.monthly_charges.mean(), label='Mean Monthly Charge', color='r')\n",
    "plt.title('Churned Customers Have Above Average Monthly Charges')\n",
    "plt.legend();"
   ]
  },
  {
   "cell_type": "markdown",
   "id": "7a9c1840",
   "metadata": {},
   "source": [
    "### Answer 1:\n",
    "Churned customers have, on average, a greater monthly service cost than customers who have not yet churned.\n",
    "\n",
    "### Question 2: Is there a relationship between gender and rate of churn?"
   ]
  },
  {
   "cell_type": "code",
   "execution_count": null,
   "id": "f1830772",
   "metadata": {},
   "outputs": [],
   "source": [
    "# create crosstab of gender/churn and visualize\n",
    "pd.crosstab(train.has_churned, train.is_male).plot.bar()\n",
    "plt.title('Churn Rates Appear Similar Between Men and Women')\n",
    "plt.ylabel('Number of Customers')\n",
    "pd.crosstab(train.has_churned, train.is_male)"
   ]
  },
  {
   "cell_type": "code",
   "execution_count": null,
   "id": "fe5a1adf",
   "metadata": {},
   "outputs": [],
   "source": [
    "# formulate null and alternative hypotheses\n",
    "null_hypothesis = 'there is no relationship between gender and churn.'\n",
    "alt_hypothesis = 'there is a relationship between gender and churn.'\n",
    "# set alpha\n",
    "alpha = 0.05\n",
    "# run chi squared test\n",
    "chi2, p, degf, expected = stats.chi2_contingency(pd.crosstab(train.has_churned, train.is_male))\n",
    "# print results of stat test\n",
    "print(f'chi^2: {chi2}, p: {p}\\n')\n",
    "if p > alpha:\n",
    "    print(f'There is not sufficient evidence to reject our null hypothesis that {null_hypothesis}')\n",
    "else:\n",
    "    print(f'There is sufficient evidence to move forward with the alternative hypothesis that {alt_hypothesis}')"
   ]
  },
  {
   "cell_type": "markdown",
   "id": "e3ccf4f2",
   "metadata": {},
   "source": [
    "### Answer 2:\n",
    "There is not a significant relationship between gender and churn.\n",
    "\n",
    "### Question 3: Is there a difference in rate of churn between customers with dependents and customers without dependents?"
   ]
  },
  {
   "cell_type": "code",
   "execution_count": null,
   "id": "fe6f82b4",
   "metadata": {},
   "outputs": [],
   "source": [
    "# create crosstab of dependent status/churn and visualize\n",
    "pd.crosstab(train.has_churned, train.has_dependents).plot.bar()\n",
    "plt.title('Churn for Customers With and Without Dependents')\n",
    "plt.ylabel('Number of Customers')\n",
    "pd.crosstab(train.has_churned, train.has_dependents)"
   ]
  },
  {
   "cell_type": "code",
   "execution_count": null,
   "id": "47b867ab",
   "metadata": {},
   "outputs": [],
   "source": [
    "# formulate null and alternative hypotheses\n",
    "null_hypothesis = 'there is no relationship between having dependents and churning.'\n",
    "alt_hypothesis = 'there is a relationship between having dependents and churning.'\n",
    "# set alpha\n",
    "alpha = 0.05\n",
    "# run chi squared test\n",
    "chi2, p, degf, expected = stats.chi2_contingency(pd.crosstab(train.has_churned, train.has_dependents))\n",
    "# print results of stat test\n",
    "print(f'chi^2: {chi2}, p: {p}\\n')\n",
    "if p > alpha:\n",
    "    print(f'There is not sufficient evidence to reject our null hypothesis that {null_hypothesis}')\n",
    "else:\n",
    "    print(f'There is sufficient evidence to move forward with the alternative hypothesis that {alt_hypothesis}')"
   ]
  },
  {
   "cell_type": "markdown",
   "id": "971d59b3",
   "metadata": {},
   "source": [
    "### Answer 3:\n",
    "I conclude that there is a relationship between churn and whether a customer has dependents.\n",
    "\n",
    "### Question 4: Does whether or not a customer has paperless billing set up affect a customer's likelihood of churn?"
   ]
  },
  {
   "cell_type": "code",
   "execution_count": null,
   "id": "01e4982b",
   "metadata": {},
   "outputs": [],
   "source": [
    "# create crosstab of paperless billing/churn and visualize\n",
    "pd.crosstab(train.has_churned, train.has_paperless_billing).plot.bar()\n",
    "plt.title('Paperless Billing and Churn')\n",
    "plt.ylabel('Number of Customers')\n",
    "pd.crosstab(train.has_churned, train.has_paperless_billing)"
   ]
  },
  {
   "cell_type": "code",
   "execution_count": null,
   "id": "9d2947bc",
   "metadata": {},
   "outputs": [],
   "source": [
    "# formulate null and alternative hypotheses\n",
    "null_hypothesis = 'there is no relationship between having paperless billing and churning.'\n",
    "alt_hypothesis = 'there is a relationship between having paperless billing and churning.'\n",
    "# set alpha\n",
    "alpha = 0.05\n",
    "# run chi squared test\n",
    "chi2, p, degf, expected = stats.chi2_contingency(pd.crosstab(train.has_churned, train.has_paperless_billing))\n",
    "# print results of stat test\n",
    "print(f'chi^2: {chi2}, p: {p}\\n')\n",
    "if p > alpha:\n",
    "    print(f'There is not sufficient evidence to reject our null hypothesis that {null_hypothesis}')\n",
    "else:\n",
    "    print(f'There is sufficient evidence to move forward with the alternative hypothesis that {alt_hypothesis}')"
   ]
  },
  {
   "cell_type": "markdown",
   "id": "477137c8",
   "metadata": {},
   "source": [
    "### Answer 4:\n",
    "I conclude that having paperless billing and churning are not independent of one another.\n",
    "\n",
    "## Exploratory Analysis Summary\n",
    "From the visualizations and statistical tests I ran, I do not believe gender will be useful in predicting customer churn. It is clear that differences in monthly charges, dependents, and paperless billing are at least somewhat related to whether or not customers will churn.\n",
    "\n",
    "## Modeling\n",
    "For my models, I will be focusing on using the variables I found to be significant in my data exploration. These include 'has_dependents', 'has_paperless_billing', 'monthly_charges', and 'total_charges'. "
   ]
  },
  {
   "cell_type": "code",
   "execution_count": null,
   "id": "b4c2eaec",
   "metadata": {},
   "outputs": [],
   "source": [
    "# create x and y versions of train, validate, and test samples\n",
    "x_train = train[['has_dependents', 'has_paperless_billing', 'monthly_charges', 'total_charges']]\n",
    "y_train = train.has_churned\n",
    "\n",
    "x_validate = validate[['has_dependents', 'has_paperless_billing', 'monthly_charges', 'total_charges']]\n",
    "y_validate = validate.has_churned\n",
    "\n",
    "x_test = test[['has_dependents', 'has_paperless_billing', 'monthly_charges', 'total_charges']]\n",
    "y_test = test.has_churned"
   ]
  },
  {
   "cell_type": "markdown",
   "id": "1a02a8f8",
   "metadata": {},
   "source": [
    "### Choosing an Evaluation Metric\n",
    "I decided to use accuracy as my evaluation metric for these models. Although there is some variation in the distribution of the classes, I believe accuracy will provide a clear picture of which model will best suit our business needs.\n",
    "\n",
    "### Baseline Model\n",
    "To create the baseline model, I will use the most common outcome of 'has_churned' as the prediction for all observations."
   ]
  },
  {
   "cell_type": "code",
   "execution_count": null,
   "id": "c8d54f8c",
   "metadata": {},
   "outputs": [],
   "source": [
    "# view value counts\n",
    "train.has_churned.value_counts()"
   ]
  },
  {
   "cell_type": "markdown",
   "id": "f9e4dc0f",
   "metadata": {},
   "source": [
    "Since customers more often do not churn, '0' (not churned) will be the baseline prediction."
   ]
  },
  {
   "cell_type": "code",
   "execution_count": null,
   "id": "723de6fd",
   "metadata": {},
   "outputs": [],
   "source": [
    "# compute baseline accuracy\n",
    "(y_train == 0).mean()"
   ]
  },
  {
   "cell_type": "markdown",
   "id": "1539638f",
   "metadata": {},
   "source": [
    "##### Baseline Accuracy is 73.5%."
   ]
  },
  {
   "cell_type": "markdown",
   "id": "399e0e97",
   "metadata": {},
   "source": [
    "### Model 1: Random Forest\n",
    "For this model, I am setting the max depth to 10, the random state to 123, and minimum samples per leaf to 1."
   ]
  },
  {
   "cell_type": "code",
   "execution_count": null,
   "id": "36984c76",
   "metadata": {},
   "outputs": [],
   "source": [
    "# create random forest object\n",
    "rf = RandomForestClassifier(min_samples_leaf=1, max_depth=10, random_state=123)\n",
    "# fit object to train sample\n",
    "rf.fit(x_train, y_train)\n",
    "# make predictions\n",
    "y_pred = rf.predict(x_train)\n",
    "# compute and print accuracy\n",
    "print(f'Model 1 Train Accuracy: {accuracy_score(y_train, y_pred):.2%}')"
   ]
  },
  {
   "cell_type": "markdown",
   "id": "c20ba362",
   "metadata": {},
   "source": [
    "### Model 2: KNN\n",
    "For this model, I am using the default settings for the K-Nearest Neighbors classifier."
   ]
  },
  {
   "cell_type": "code",
   "execution_count": null,
   "id": "d831fb5d",
   "metadata": {},
   "outputs": [],
   "source": [
    "# create k-nearest neighbor object\n",
    "knn = KNeighborsClassifier()\n",
    "# fit object to train sample\n",
    "knn.fit(x_train, y_train)\n",
    "# make predictions\n",
    "y_pred = knn.predict(x_train)\n",
    "# compute and print accuracy\n",
    "print(f'Model 2 Train Accuracy: {accuracy_score(y_train, y_pred):.2%}')"
   ]
  },
  {
   "cell_type": "markdown",
   "id": "a67aa816",
   "metadata": {},
   "source": [
    "### Model 3: Logistic Regression\n",
    "For this model, I am using the default settings for the Logistic Regression classifier and I am setting the random state to 123."
   ]
  },
  {
   "cell_type": "code",
   "execution_count": null,
   "id": "7c8fe6ba",
   "metadata": {},
   "outputs": [],
   "source": [
    "# create logistic regression object\n",
    "logreg = LogisticRegression(random_state=123)\n",
    "# fit object to train sample\n",
    "logreg.fit(x_train, y_train)\n",
    "# make predictions\n",
    "y_pred = logreg.predict(x_train)\n",
    "# compute and print accuracy\n",
    "print(f'Model 3 Train Accuracy: {accuracy_score(y_train, y_pred):.2%}')"
   ]
  },
  {
   "cell_type": "markdown",
   "id": "164cef0c",
   "metadata": {},
   "source": [
    "**Model 1 (Random Forest) is 88% accurate, Model 2 (KNN) is 82% accurate, and Model 3 (Logistic Regression) is 78% accurate. Since Model 1 and Model 2 are more accurate than Model 3, I will evaluate those two models on the validate sample.**"
   ]
  },
  {
   "cell_type": "code",
   "execution_count": null,
   "id": "bd3dc3fa",
   "metadata": {},
   "outputs": [],
   "source": [
    "# make predictions on validate and compute accuracy for Model 1\n",
    "y_pred = rf.predict(x_validate)\n",
    "print(f'Model 1 Validate Accuracy: {accuracy_score(y_validate, y_pred):.2%}')\n",
    "# make predictions on validate and compute accuracy for Model 2\n",
    "y_pred = knn.predict(x_validate)\n",
    "print(f'Model 2 Validate Accuracy: {accuracy_score(y_validate, y_pred):.2%}')"
   ]
  },
  {
   "cell_type": "markdown",
   "id": "58b68e9d",
   "metadata": {},
   "source": [
    "**With an accuracy of 88% on train and 79% on validate, Model 1 (Random Forest) is the top-performing model. Finally, I will evaluate this model on the test sample and create a .csv file containing this model's predictions for the test sample.**"
   ]
  },
  {
   "cell_type": "code",
   "execution_count": null,
   "id": "bef13d82",
   "metadata": {},
   "outputs": [],
   "source": [
    "# make predictions on test sample\n",
    "y_pred = rf.predict(x_test)\n",
    "# compute accuracy of Model 1 on test sample\n",
    "print(f'Model 1 Test Accuracy: {accuracy_score(y_test, y_pred):.2%}')\n",
    "# generate probabilities for predictions\n",
    "y_proba = rf.predict_proba(x_test)"
   ]
  },
  {
   "cell_type": "code",
   "execution_count": null,
   "id": "4fd84b9f",
   "metadata": {},
   "outputs": [],
   "source": [
    "# retrieve customer ids from test sample as dataframe\n",
    "telco_predictions = pd.DataFrame(test['customer_id'])\n",
    "# add column for probabilities\n",
    "telco_predictions['churn_probability'] = pd.DataFrame(y_proba)[1].to_list()\n",
    "# add column for predictions\n",
    "telco_predictions['prediction'] = y_pred\n",
    "# change 0 predictions to not churned, 1 predictions to churned\n",
    "telco_predictions.prediction.replace({0:'Not Churned', 1:'Churned'}, inplace=True)\n",
    "# view dataframe\n",
    "telco_predictions"
   ]
  },
  {
   "cell_type": "code",
   "execution_count": null,
   "id": "f11f3d64",
   "metadata": {},
   "outputs": [],
   "source": [
    "# export dataframe to .csv file\n",
    "telco_predictions.to_csv('churn_predictions.csv')"
   ]
  },
  {
   "cell_type": "markdown",
   "id": "dc214cf3",
   "metadata": {},
   "source": [
    "## Conclusion\n",
    "\n",
    "### Summary\n",
    "My top performing model has an accuracy of approximately 79% when predicting customer churn. It is obvious that monthly charges are a factor in customer churn, but there are also many other factors in play, only some of which I was able to touch on in this report. \n",
    "\n",
    "### Recommendation\n",
    "I recommend offering a discount program for longtime customers so they will not be driven away by the increasing prices the longer they remain a customer.\n",
    "\n",
    "### Next Steps\n",
    "With more time, I would like to run my models with different hyperparameters to try and get more accurate predictions. I would also like to further explore features in pursuit of better models.\n",
    "\n",
    "# Thank You!"
   ]
  },
  {
   "cell_type": "code",
   "execution_count": null,
   "id": "980b0cad",
   "metadata": {},
   "outputs": [],
   "source": []
  }
 ],
 "metadata": {
  "kernelspec": {
   "display_name": "Python 3",
   "language": "python",
   "name": "python3"
  },
  "language_info": {
   "codemirror_mode": {
    "name": "ipython",
    "version": 3
   },
   "file_extension": ".py",
   "mimetype": "text/x-python",
   "name": "python",
   "nbconvert_exporter": "python",
   "pygments_lexer": "ipython3",
   "version": "3.8.8"
  }
 },
 "nbformat": 4,
 "nbformat_minor": 5
}
