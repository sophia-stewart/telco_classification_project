{
 "cells": [
  {
   "cell_type": "markdown",
   "id": "3702fa65",
   "metadata": {},
   "source": [
    "# Exploratory Analysis of Telco Data (Train Sample)\n",
    "\n",
    "#### Initial Questions\n",
    "- Are customers with higher monthly charges more likely to churn?\n",
    "- Is there a relationship between gender and rate of churn?\n",
    "- Is there a difference in rate of churn between customers with dependents and customers without dependents?\n",
    "- Does whether or not a customer has paperless billing set up affect a customer's likelihood of churn?"
   ]
  },
  {
   "cell_type": "code",
   "execution_count": 1,
   "id": "fe17040e",
   "metadata": {},
   "outputs": [],
   "source": [
    "# import modules\n",
    "import pandas as pd\n",
    "import telco_functions as tf\n",
    "import matplotlib.pyplot as plt\n",
    "import seaborn as sns\n",
    "from scipy import stats"
   ]
  },
  {
   "cell_type": "code",
   "execution_count": 2,
   "id": "ee1809d7",
   "metadata": {},
   "outputs": [
    {
     "data": {
      "text/html": [
       "<div>\n",
       "<style scoped>\n",
       "    .dataframe tbody tr th:only-of-type {\n",
       "        vertical-align: middle;\n",
       "    }\n",
       "\n",
       "    .dataframe tbody tr th {\n",
       "        vertical-align: top;\n",
       "    }\n",
       "\n",
       "    .dataframe thead th {\n",
       "        text-align: right;\n",
       "    }\n",
       "</style>\n",
       "<table border=\"1\" class=\"dataframe\">\n",
       "  <thead>\n",
       "    <tr style=\"text-align: right;\">\n",
       "      <th></th>\n",
       "      <th>senior_citizen</th>\n",
       "      <th>tenure</th>\n",
       "      <th>monthly_charges</th>\n",
       "      <th>total_charges</th>\n",
       "      <th>is_male</th>\n",
       "      <th>has_partner</th>\n",
       "      <th>has_dependents</th>\n",
       "      <th>has_phone_service</th>\n",
       "      <th>multiple_lines_No phone service</th>\n",
       "      <th>multiple_lines_Yes</th>\n",
       "      <th>...</th>\n",
       "      <th>has_paperless_billing</th>\n",
       "      <th>has_churned</th>\n",
       "      <th>contract_type_One year</th>\n",
       "      <th>contract_type_Two year</th>\n",
       "      <th>internet_service_type_Fiber optic</th>\n",
       "      <th>internet_service_type_None</th>\n",
       "      <th>payment_type_Credit card (automatic)</th>\n",
       "      <th>payment_type_Electronic check</th>\n",
       "      <th>payment_type_Mailed check</th>\n",
       "      <th>customer_id</th>\n",
       "    </tr>\n",
       "  </thead>\n",
       "  <tbody>\n",
       "    <tr>\n",
       "      <th>2529</th>\n",
       "      <td>0</td>\n",
       "      <td>56</td>\n",
       "      <td>103.20</td>\n",
       "      <td>5873.75</td>\n",
       "      <td>1</td>\n",
       "      <td>1</td>\n",
       "      <td>1</td>\n",
       "      <td>1</td>\n",
       "      <td>0</td>\n",
       "      <td>1</td>\n",
       "      <td>...</td>\n",
       "      <td>1</td>\n",
       "      <td>0</td>\n",
       "      <td>0</td>\n",
       "      <td>1</td>\n",
       "      <td>1</td>\n",
       "      <td>0</td>\n",
       "      <td>0</td>\n",
       "      <td>1</td>\n",
       "      <td>0</td>\n",
       "      <td>2530-FMFXO</td>\n",
       "    </tr>\n",
       "    <tr>\n",
       "      <th>6247</th>\n",
       "      <td>0</td>\n",
       "      <td>22</td>\n",
       "      <td>20.15</td>\n",
       "      <td>419.90</td>\n",
       "      <td>1</td>\n",
       "      <td>1</td>\n",
       "      <td>1</td>\n",
       "      <td>1</td>\n",
       "      <td>0</td>\n",
       "      <td>0</td>\n",
       "      <td>...</td>\n",
       "      <td>0</td>\n",
       "      <td>0</td>\n",
       "      <td>1</td>\n",
       "      <td>0</td>\n",
       "      <td>0</td>\n",
       "      <td>1</td>\n",
       "      <td>0</td>\n",
       "      <td>0</td>\n",
       "      <td>1</td>\n",
       "      <td>2749-CTKAJ</td>\n",
       "    </tr>\n",
       "    <tr>\n",
       "      <th>3177</th>\n",
       "      <td>0</td>\n",
       "      <td>71</td>\n",
       "      <td>109.60</td>\n",
       "      <td>7854.15</td>\n",
       "      <td>1</td>\n",
       "      <td>1</td>\n",
       "      <td>0</td>\n",
       "      <td>1</td>\n",
       "      <td>0</td>\n",
       "      <td>1</td>\n",
       "      <td>...</td>\n",
       "      <td>1</td>\n",
       "      <td>0</td>\n",
       "      <td>1</td>\n",
       "      <td>0</td>\n",
       "      <td>1</td>\n",
       "      <td>0</td>\n",
       "      <td>0</td>\n",
       "      <td>1</td>\n",
       "      <td>0</td>\n",
       "      <td>5945-AZYHT</td>\n",
       "    </tr>\n",
       "    <tr>\n",
       "      <th>3043</th>\n",
       "      <td>1</td>\n",
       "      <td>58</td>\n",
       "      <td>108.85</td>\n",
       "      <td>6287.25</td>\n",
       "      <td>1</td>\n",
       "      <td>1</td>\n",
       "      <td>0</td>\n",
       "      <td>1</td>\n",
       "      <td>0</td>\n",
       "      <td>1</td>\n",
       "      <td>...</td>\n",
       "      <td>1</td>\n",
       "      <td>1</td>\n",
       "      <td>1</td>\n",
       "      <td>0</td>\n",
       "      <td>1</td>\n",
       "      <td>0</td>\n",
       "      <td>0</td>\n",
       "      <td>1</td>\n",
       "      <td>0</td>\n",
       "      <td>3424-NMNBO</td>\n",
       "    </tr>\n",
       "    <tr>\n",
       "      <th>3386</th>\n",
       "      <td>1</td>\n",
       "      <td>53</td>\n",
       "      <td>94.00</td>\n",
       "      <td>4871.45</td>\n",
       "      <td>0</td>\n",
       "      <td>1</td>\n",
       "      <td>0</td>\n",
       "      <td>1</td>\n",
       "      <td>0</td>\n",
       "      <td>0</td>\n",
       "      <td>...</td>\n",
       "      <td>1</td>\n",
       "      <td>0</td>\n",
       "      <td>1</td>\n",
       "      <td>0</td>\n",
       "      <td>1</td>\n",
       "      <td>0</td>\n",
       "      <td>0</td>\n",
       "      <td>1</td>\n",
       "      <td>0</td>\n",
       "      <td>9972-VAFJJ</td>\n",
       "    </tr>\n",
       "  </tbody>\n",
       "</table>\n",
       "<p>5 rows × 32 columns</p>\n",
       "</div>"
      ],
      "text/plain": [
       "      senior_citizen  tenure  monthly_charges  total_charges  is_male  \\\n",
       "2529               0      56           103.20        5873.75        1   \n",
       "6247               0      22            20.15         419.90        1   \n",
       "3177               0      71           109.60        7854.15        1   \n",
       "3043               1      58           108.85        6287.25        1   \n",
       "3386               1      53            94.00        4871.45        0   \n",
       "\n",
       "      has_partner  has_dependents  has_phone_service  \\\n",
       "2529            1               1                  1   \n",
       "6247            1               1                  1   \n",
       "3177            1               0                  1   \n",
       "3043            1               0                  1   \n",
       "3386            1               0                  1   \n",
       "\n",
       "      multiple_lines_No phone service  multiple_lines_Yes  ...  \\\n",
       "2529                                0                   1  ...   \n",
       "6247                                0                   0  ...   \n",
       "3177                                0                   1  ...   \n",
       "3043                                0                   1  ...   \n",
       "3386                                0                   0  ...   \n",
       "\n",
       "      has_paperless_billing  has_churned  contract_type_One year  \\\n",
       "2529                      1            0                       0   \n",
       "6247                      0            0                       1   \n",
       "3177                      1            0                       1   \n",
       "3043                      1            1                       1   \n",
       "3386                      1            0                       1   \n",
       "\n",
       "      contract_type_Two year  internet_service_type_Fiber optic  \\\n",
       "2529                       1                                  1   \n",
       "6247                       0                                  0   \n",
       "3177                       0                                  1   \n",
       "3043                       0                                  1   \n",
       "3386                       0                                  1   \n",
       "\n",
       "      internet_service_type_None  payment_type_Credit card (automatic)  \\\n",
       "2529                           0                                     0   \n",
       "6247                           1                                     0   \n",
       "3177                           0                                     0   \n",
       "3043                           0                                     0   \n",
       "3386                           0                                     0   \n",
       "\n",
       "      payment_type_Electronic check  payment_type_Mailed check  customer_id  \n",
       "2529                              1                          0   2530-FMFXO  \n",
       "6247                              0                          1   2749-CTKAJ  \n",
       "3177                              1                          0   5945-AZYHT  \n",
       "3043                              1                          0   3424-NMNBO  \n",
       "3386                              1                          0   9972-VAFJJ  \n",
       "\n",
       "[5 rows x 32 columns]"
      ]
     },
     "execution_count": 2,
     "metadata": {},
     "output_type": "execute_result"
    }
   ],
   "source": [
    "# wrangle telco data, only looking at train sample for exploration\n",
    "train, validate, test = tf.wrangle_telco()\n",
    "train.head()"
   ]
  },
  {
   "cell_type": "markdown",
   "id": "b4a72448",
   "metadata": {},
   "source": [
    "## Univariate Stats\n",
    "\n",
    "I will begin by analyzing each variable, that is relevant to my initial questions, on its own. I will look at distributions and frequencies, as well as summary statistics, where available."
   ]
  },
  {
   "cell_type": "code",
   "execution_count": 3,
   "id": "3ad0aa85",
   "metadata": {},
   "outputs": [
    {
     "data": {
      "text/plain": [
       "0.26496815286624203"
      ]
     },
     "execution_count": 3,
     "metadata": {},
     "output_type": "execute_result"
    }
   ],
   "source": [
    "# calculate churn rate\n",
    "train.has_churned.mean()"
   ]
  },
  {
   "cell_type": "code",
   "execution_count": 4,
   "id": "7df073b1",
   "metadata": {},
   "outputs": [
    {
     "data": {
      "text/plain": [
       "count    3925.000000\n",
       "mean       65.165057\n",
       "std        29.889307\n",
       "min        18.400000\n",
       "25%        39.650000\n",
       "50%        70.400000\n",
       "75%        90.050000\n",
       "max       118.750000\n",
       "Name: monthly_charges, dtype: float64"
      ]
     },
     "execution_count": 4,
     "metadata": {},
     "output_type": "execute_result"
    },
    {
     "data": {
      "image/png": "[encoded data removed]",
      "text/plain": [
       "<Figure size 432x288 with 2 Axes>"
      ]
     },
     "metadata": {
      "needs_background": "light"
     },
     "output_type": "display_data"
    }
   ],
   "source": [
    "# visualize distribution of monthly_charges\n",
    "plt.subplot(1, 2, 1)\n",
    "plt.hist(train.monthly_charges)\n",
    "plt.subplot(1, 2, 2)\n",
    "plt.boxplot(train.monthly_charges)\n",
    "plt.suptitle('Distribution of Monthly Charges')\n",
    "plt.tight_layout();\n",
    "# view summary stats for monthly_charges\n",
    "train.monthly_charges.describe()"
   ]
  },
  {
   "cell_type": "code",
   "execution_count": 5,
   "id": "c218f2ad",
   "metadata": {},
   "outputs": [
    {
     "data": {
      "text/plain": [
       "count    3925.000000\n",
       "mean     2293.172968\n",
       "std      2260.559430\n",
       "min        18.850000\n",
       "25%       405.700000\n",
       "50%      1416.500000\n",
       "75%      3791.600000\n",
       "max      8684.800000\n",
       "Name: total_charges, dtype: float64"
      ]
     },
     "execution_count": 5,
     "metadata": {},
     "output_type": "execute_result"
    },
    {
     "data": {
      "image/png": "[encoded data removed]",
      "text/plain": [
       "<Figure size 432x288 with 2 Axes>"
      ]
     },
     "metadata": {
      "needs_background": "light"
     },
     "output_type": "display_data"
    }
   ],
   "source": [
    "# visualize distribution of total_charges\n",
    "plt.subplot(1, 2, 1)\n",
    "plt.hist(train.total_charges)\n",
    "plt.subplot(1, 2, 2)\n",
    "plt.boxplot(train.total_charges)\n",
    "plt.suptitle('Distribution of Total Charges')\n",
    "plt.tight_layout();\n",
    "# view summary stats for total_charges\n",
    "train.total_charges.describe()"
   ]
  },
  {
   "cell_type": "code",
   "execution_count": 6,
   "id": "4f5fa845",
   "metadata": {},
   "outputs": [
    {
     "data": {
      "image/png": "[encoded data removed]",
      "text/plain": [
       "<Figure size 432x288 with 6 Axes>"
      ]
     },
     "metadata": {
      "needs_background": "light"
     },
     "output_type": "display_data"
    }
   ],
   "source": [
    "# view frequencies of variables relevant to questions\n",
    "train[['has_churned', 'has_dependents', 'is_male', 'has_paperless_billing', 'monthly_charges', 'total_charges']].hist()\n",
    "plt.tight_layout();"
   ]
  },
  {
   "cell_type": "markdown",
   "id": "f464938a",
   "metadata": {},
   "source": [
    "#### Takeaways:\n",
    "- monthly_charges is mostly normally distributed.\n",
    "- The distribution of total_charges is right-skewed.\n",
    "- There are more customers without dependents than customers with dependents.\n",
    "- There are slightly more male customers than female customers.\n",
    "- More customers are enrolled in paperless billing than are not.\n",
    "- Most customers have not churned; only about 26.5% of our train sample has churned.\n",
    "\n",
    "### Question 1: Do churned customers have higher monthly charges than customers who have not yet churned?\n",
    "\n",
    "\n",
    "\n",
    "To answer this question, I will look at bivariate statistics between has_churned and monthly_charges."
   ]
  },
  {
   "cell_type": "code",
   "execution_count": 7,
   "id": "dc1d707f",
   "metadata": {},
   "outputs": [
    {
     "data": {
      "image/png": "[encoded data removed]",
      "text/plain": [
       "<Figure size 432x288 with 1 Axes>"
      ]
     },
     "metadata": {
      "needs_background": "light"
     },
     "output_type": "display_data"
    }
   ],
   "source": [
    "# visualize average monthly charges by whether a customer has churned\n",
    "sns.barplot(data=train, x='has_churned', y='monthly_charges')\n",
    "plt.axhline(train.monthly_charges.mean(), label='Mean Monthly Charge', color='r')\n",
    "plt.title('Churned Customers Have Above Average Total Charges')\n",
    "plt.legend();"
   ]
  },
  {
   "cell_type": "code",
   "execution_count": 8,
   "id": "d08adfdb",
   "metadata": {},
   "outputs": [
    {
     "data": {
      "text/html": [
       "<div>\n",
       "<style scoped>\n",
       "    .dataframe tbody tr th:only-of-type {\n",
       "        vertical-align: middle;\n",
       "    }\n",
       "\n",
       "    .dataframe tbody tr th {\n",
       "        vertical-align: top;\n",
       "    }\n",
       "\n",
       "    .dataframe thead th {\n",
       "        text-align: right;\n",
       "    }\n",
       "</style>\n",
       "<table border=\"1\" class=\"dataframe\">\n",
       "  <thead>\n",
       "    <tr style=\"text-align: right;\">\n",
       "      <th></th>\n",
       "      <th>count</th>\n",
       "      <th>mean</th>\n",
       "      <th>std</th>\n",
       "      <th>min</th>\n",
       "      <th>25%</th>\n",
       "      <th>50%</th>\n",
       "      <th>75%</th>\n",
       "      <th>max</th>\n",
       "    </tr>\n",
       "    <tr>\n",
       "      <th>has_churned</th>\n",
       "      <th></th>\n",
       "      <th></th>\n",
       "      <th></th>\n",
       "      <th></th>\n",
       "      <th></th>\n",
       "      <th></th>\n",
       "      <th></th>\n",
       "      <th></th>\n",
       "    </tr>\n",
       "  </thead>\n",
       "  <tbody>\n",
       "    <tr>\n",
       "      <th>0</th>\n",
       "      <td>2885.0</td>\n",
       "      <td>61.678146</td>\n",
       "      <td>30.812631</td>\n",
       "      <td>18.4</td>\n",
       "      <td>25.25</td>\n",
       "      <td>64.900</td>\n",
       "      <td>88.75</td>\n",
       "      <td>118.75</td>\n",
       "    </tr>\n",
       "    <tr>\n",
       "      <th>1</th>\n",
       "      <td>1040.0</td>\n",
       "      <td>74.837885</td>\n",
       "      <td>24.723315</td>\n",
       "      <td>19.3</td>\n",
       "      <td>56.55</td>\n",
       "      <td>79.775</td>\n",
       "      <td>94.45</td>\n",
       "      <td>118.35</td>\n",
       "    </tr>\n",
       "  </tbody>\n",
       "</table>\n",
       "</div>"
      ],
      "text/plain": [
       "              count       mean        std   min    25%     50%    75%     max\n",
       "has_churned                                                                  \n",
       "0            2885.0  61.678146  30.812631  18.4  25.25  64.900  88.75  118.75\n",
       "1            1040.0  74.837885  24.723315  19.3  56.55  79.775  94.45  118.35"
      ]
     },
     "execution_count": 8,
     "metadata": {},
     "output_type": "execute_result"
    }
   ],
   "source": [
    "# view monthly_charges summary stats by has_churned\n",
    "train['monthly_charges'].groupby(train.has_churned).describe()"
   ]
  },
  {
   "cell_type": "code",
   "execution_count": 9,
   "id": "7c855f1a",
   "metadata": {},
   "outputs": [
    {
     "data": {
      "text/plain": [
       "<AxesSubplot:xlabel='has_churned', ylabel='monthly_charges'>"
      ]
     },
     "execution_count": 9,
     "metadata": {},
     "output_type": "execute_result"
    },
    {
     "data": {
      "image/png": "[encoded data removed]",
      "text/plain": [
       "<Figure size 432x288 with 1 Axes>"
      ]
     },
     "metadata": {
      "needs_background": "light"
     },
     "output_type": "display_data"
    }
   ],
   "source": [
    "# visualize boxplot\n",
    "sns.boxplot(data=train, x='has_churned', y='monthly_charges', hue='has_churned')"
   ]
  },
  {
   "cell_type": "markdown",
   "id": "af3191f3",
   "metadata": {},
   "source": [
    "### Answer:\n",
    "- Churned customers have, on average, a greater monthly service cost than customers who have not yet churned.\n",
    "\n",
    "### Question 2: Is whether or not a customer churns independent of their gender?"
   ]
  },
  {
   "cell_type": "code",
   "execution_count": 10,
   "id": "33fb219d",
   "metadata": {},
   "outputs": [
    {
     "data": {
      "text/html": [
       "<div>\n",
       "<style scoped>\n",
       "    .dataframe tbody tr th:only-of-type {\n",
       "        vertical-align: middle;\n",
       "    }\n",
       "\n",
       "    .dataframe tbody tr th {\n",
       "        vertical-align: top;\n",
       "    }\n",
       "\n",
       "    .dataframe thead th {\n",
       "        text-align: right;\n",
       "    }\n",
       "</style>\n",
       "<table border=\"1\" class=\"dataframe\">\n",
       "  <thead>\n",
       "    <tr style=\"text-align: right;\">\n",
       "      <th>is_male</th>\n",
       "      <th>0</th>\n",
       "      <th>1</th>\n",
       "    </tr>\n",
       "    <tr>\n",
       "      <th>has_churned</th>\n",
       "      <th></th>\n",
       "      <th></th>\n",
       "    </tr>\n",
       "  </thead>\n",
       "  <tbody>\n",
       "    <tr>\n",
       "      <th>0</th>\n",
       "      <td>1411</td>\n",
       "      <td>1474</td>\n",
       "    </tr>\n",
       "    <tr>\n",
       "      <th>1</th>\n",
       "      <td>510</td>\n",
       "      <td>530</td>\n",
       "    </tr>\n",
       "  </tbody>\n",
       "</table>\n",
       "</div>"
      ],
      "text/plain": [
       "is_male         0     1\n",
       "has_churned            \n",
       "0            1411  1474\n",
       "1             510   530"
      ]
     },
     "execution_count": 10,
     "metadata": {},
     "output_type": "execute_result"
    },
    {
     "data": {
      "image/png": "[encoded data removed]",
      "text/plain": [
       "<Figure size 432x288 with 1 Axes>"
      ]
     },
     "metadata": {
      "needs_background": "light"
     },
     "output_type": "display_data"
    }
   ],
   "source": [
    "# create crosstab of gender/churn and visualize\n",
    "pd.crosstab(train.has_churned, train.is_male).plot.bar()\n",
    "pd.crosstab(train.has_churned, train.is_male)"
   ]
  },
  {
   "cell_type": "markdown",
   "id": "14f2e706",
   "metadata": {},
   "source": [
    "From the visualization and the crosstab, there does not appear to be a significant relationship between gender and whether a customer has churned. To be sure, I will run a chi squared test."
   ]
  },
  {
   "cell_type": "code",
   "execution_count": 11,
   "id": "0150f780",
   "metadata": {},
   "outputs": [
    {
     "data": {
      "text/plain": [
       "(0.0012888143260670034, 0.9713620478259688)"
      ]
     },
     "execution_count": 11,
     "metadata": {},
     "output_type": "execute_result"
    }
   ],
   "source": [
    "# formulate null and alternative hypotheses\n",
    "null_hypothesis = 'there is no relationship between gender and churn.'\n",
    "alt_hypothesis = 'there is a relationship between gender and churn.'\n",
    "# set alpha\n",
    "alpha = 0.05\n",
    "# run chi squared test\n",
    "chi2, p, degf, expected = stats.chi2_contingency(pd.crosstab(train.has_churned, train.is_male))\n",
    "chi2, p"
   ]
  },
  {
   "cell_type": "code",
   "execution_count": 12,
   "id": "0825c5d2",
   "metadata": {},
   "outputs": [
    {
     "name": "stdout",
     "output_type": "stream",
     "text": [
      "There is not sufficient evidence to reject our null hypothesis that there is no relationship between gender and churn.\n"
     ]
    }
   ],
   "source": [
    "# print results of stat test\n",
    "if p > alpha:\n",
    "    print(f'There is not sufficient evidence to reject our null hypothesis that {null_hypothesis}')\n",
    "else:\n",
    "    print(f'There is sufficient evidence to move forward with the alternative hypothesis that {alt_hypothesis}')"
   ]
  },
  {
   "cell_type": "markdown",
   "id": "336c854e",
   "metadata": {},
   "source": [
    "### Answer 2:\n",
    "Based on the visualization and statistical test, I conclude that there is not a significant relationship between gender and churn.\n",
    "\n",
    "### Question 3: Is there a difference in rate of churn between customers with dependents and customers without dependents?"
   ]
  },
  {
   "cell_type": "code",
   "execution_count": 13,
   "id": "8fab3f59",
   "metadata": {},
   "outputs": [
    {
     "data": {
      "text/html": [
       "<div>\n",
       "<style scoped>\n",
       "    .dataframe tbody tr th:only-of-type {\n",
       "        vertical-align: middle;\n",
       "    }\n",
       "\n",
       "    .dataframe tbody tr th {\n",
       "        vertical-align: top;\n",
       "    }\n",
       "\n",
       "    .dataframe thead th {\n",
       "        text-align: right;\n",
       "    }\n",
       "</style>\n",
       "<table border=\"1\" class=\"dataframe\">\n",
       "  <thead>\n",
       "    <tr style=\"text-align: right;\">\n",
       "      <th>has_dependents</th>\n",
       "      <th>0</th>\n",
       "      <th>1</th>\n",
       "    </tr>\n",
       "    <tr>\n",
       "      <th>has_churned</th>\n",
       "      <th></th>\n",
       "      <th></th>\n",
       "    </tr>\n",
       "  </thead>\n",
       "  <tbody>\n",
       "    <tr>\n",
       "      <th>0</th>\n",
       "      <td>1903</td>\n",
       "      <td>982</td>\n",
       "    </tr>\n",
       "    <tr>\n",
       "      <th>1</th>\n",
       "      <td>855</td>\n",
       "      <td>185</td>\n",
       "    </tr>\n",
       "  </tbody>\n",
       "</table>\n",
       "</div>"
      ],
      "text/plain": [
       "has_dependents     0    1\n",
       "has_churned              \n",
       "0               1903  982\n",
       "1                855  185"
      ]
     },
     "execution_count": 13,
     "metadata": {},
     "output_type": "execute_result"
    },
    {
     "data": {
      "image/png": "[encoded data removed]",
      "text/plain": [
       "<Figure size 432x288 with 1 Axes>"
      ]
     },
     "metadata": {
      "needs_background": "light"
     },
     "output_type": "display_data"
    }
   ],
   "source": [
    "# create crosstab of dependent status/churn and visualize\n",
    "pd.crosstab(train.has_churned, train.has_dependents).plot.bar()\n",
    "pd.crosstab(train.has_churned, train.has_dependents)"
   ]
  },
  {
   "cell_type": "code",
   "execution_count": 14,
   "id": "15713909",
   "metadata": {},
   "outputs": [
    {
     "data": {
      "text/plain": [
       "(95.83834981493843, 1.2465742877698198e-22)"
      ]
     },
     "execution_count": 14,
     "metadata": {},
     "output_type": "execute_result"
    }
   ],
   "source": [
    "# formulate null and alternative hypotheses\n",
    "null_hypothesis = 'there is no relationship between having dependents and churning.'\n",
    "alt_hypothesis = 'there is a relationship between having dependents and churning.'\n",
    "# set alpha\n",
    "alpha = 0.05\n",
    "# run chi squared test\n",
    "chi2, p, degf, expected = stats.chi2_contingency(pd.crosstab(train.has_churned, train.has_dependents))\n",
    "chi2, p"
   ]
  },
  {
   "cell_type": "code",
   "execution_count": 15,
   "id": "bd480d2a",
   "metadata": {},
   "outputs": [
    {
     "name": "stdout",
     "output_type": "stream",
     "text": [
      "There is sufficient evidence to move forward with the alternative hypothesis that there is a relationship between having dependents and churning.\n"
     ]
    }
   ],
   "source": [
    "# print results of stat test\n",
    "if p > alpha:\n",
    "    print(f'There is not sufficient evidence to reject our null hypothesis that {null_hypothesis}')\n",
    "else:\n",
    "    print(f'There is sufficient evidence to move forward with the alternative hypothesis that {alt_hypothesis}')"
   ]
  },
  {
   "cell_type": "markdown",
   "id": "a287b98e",
   "metadata": {},
   "source": [
    "### Answer 3:\n",
    "Based on the visualization and chi squared test, I conclude that there is a relationship between churn and whether a customer has dependents.\n",
    "\n",
    "### Question 4: Does whether or not a customer has paperless billing set up affect a customer's likelihood of churn?"
   ]
  },
  {
   "cell_type": "code",
   "execution_count": 16,
   "id": "1583f79a",
   "metadata": {},
   "outputs": [
    {
     "data": {
      "text/html": [
       "<div>\n",
       "<style scoped>\n",
       "    .dataframe tbody tr th:only-of-type {\n",
       "        vertical-align: middle;\n",
       "    }\n",
       "\n",
       "    .dataframe tbody tr th {\n",
       "        vertical-align: top;\n",
       "    }\n",
       "\n",
       "    .dataframe thead th {\n",
       "        text-align: right;\n",
       "    }\n",
       "</style>\n",
       "<table border=\"1\" class=\"dataframe\">\n",
       "  <thead>\n",
       "    <tr style=\"text-align: right;\">\n",
       "      <th>has_paperless_billing</th>\n",
       "      <th>0</th>\n",
       "      <th>1</th>\n",
       "    </tr>\n",
       "    <tr>\n",
       "      <th>has_churned</th>\n",
       "      <th></th>\n",
       "      <th></th>\n",
       "    </tr>\n",
       "  </thead>\n",
       "  <tbody>\n",
       "    <tr>\n",
       "      <th>0</th>\n",
       "      <td>1332</td>\n",
       "      <td>1553</td>\n",
       "    </tr>\n",
       "    <tr>\n",
       "      <th>1</th>\n",
       "      <td>248</td>\n",
       "      <td>792</td>\n",
       "    </tr>\n",
       "  </tbody>\n",
       "</table>\n",
       "</div>"
      ],
      "text/plain": [
       "has_paperless_billing     0     1\n",
       "has_churned                      \n",
       "0                      1332  1553\n",
       "1                       248   792"
      ]
     },
     "execution_count": 16,
     "metadata": {},
     "output_type": "execute_result"
    },
    {
     "data": {
      "image/png": "[encoded data removed]",
      "text/plain": [
       "<Figure size 432x288 with 1 Axes>"
      ]
     },
     "metadata": {
      "needs_background": "light"
     },
     "output_type": "display_data"
    }
   ],
   "source": [
    "# create crosstab of paperless billing/churn and visualize\n",
    "pd.crosstab(train.has_churned, train.has_paperless_billing).plot.bar()\n",
    "plt.title('Paperless Billing and Churn')\n",
    "pd.crosstab(train.has_churned, train.has_paperless_billing)"
   ]
  },
  {
   "cell_type": "markdown",
   "id": "9b52069d",
   "metadata": {},
   "source": [
    "From this visualization, it appears that, of those customers who churned, most had paperless billing set up."
   ]
  },
  {
   "cell_type": "code",
   "execution_count": 17,
   "id": "acb24d59",
   "metadata": {},
   "outputs": [
    {
     "name": "stdout",
     "output_type": "stream",
     "text": [
      "chi^2: 157.47157584323122, p: 4.0374327424237946e-36\n",
      "\n",
      "There is sufficient evidence to move forward with the alternative hypothesis that there is a relationship between having paperless billing and churning.\n"
     ]
    }
   ],
   "source": [
    "# formulate null and alternative hypotheses\n",
    "null_hypothesis = 'there is no relationship between having paperless billing and churning.'\n",
    "alt_hypothesis = 'there is a relationship between having paperless billing and churning.'\n",
    "# set alpha\n",
    "alpha = 0.05\n",
    "# run chi squared test\n",
    "chi2, p, degf, expected = stats.chi2_contingency(pd.crosstab(train.has_churned, train.has_paperless_billing))\n",
    "print(f'chi^2: {chi2}, p: {p}\\n')\n",
    "# print results of stat test\n",
    "if p > alpha:\n",
    "    print(f'There is not sufficient evidence to reject our null hypothesis that {null_hypothesis}')\n",
    "else:\n",
    "    print(f'There is sufficient evidence to move forward with the alternative hypothesis that {alt_hypothesis}')"
   ]
  },
  {
   "cell_type": "code",
   "execution_count": null,
   "id": "29163791",
   "metadata": {},
   "outputs": [],
   "source": []
  }
 ],
 "metadata": {
  "kernelspec": {
   "display_name": "Python 3",
   "language": "python",
   "name": "python3"
  },
  "language_info": {
   "codemirror_mode": {
    "name": "ipython",
    "version": 3
   },
   "file_extension": ".py",
   "mimetype": "text/x-python",
   "name": "python",
   "nbconvert_exporter": "python",
   "pygments_lexer": "ipython3",
   "version": "3.8.8"
  }
 },
 "nbformat": 4,
 "nbformat_minor": 5
}
